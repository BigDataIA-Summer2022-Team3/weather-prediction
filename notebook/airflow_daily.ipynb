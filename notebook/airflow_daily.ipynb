{
 "cells": [
  {
   "cell_type": "code",
   "execution_count": 4,
   "metadata": {},
   "outputs": [],
   "source": [
    "import requests\n",
    "import json\n",
    "from datetime import datetime"
   ]
  },
  {
   "cell_type": "code",
   "execution_count": 19,
   "metadata": {},
   "outputs": [
    {
     "data": {
      "text/plain": [
       "{'dt': 1660334400,\n",
       " 'sunrise': 1660309295,\n",
       " 'sunset': 1660361077,\n",
       " 'moonrise': 1660364460,\n",
       " 'moonset': 1660310880,\n",
       " 'moon_phase': 0.53,\n",
       " 'temp': {'day': 23.44,\n",
       "  'min': 14.28,\n",
       "  'max': 24.6,\n",
       "  'night': 15.51,\n",
       "  'eve': 18.71,\n",
       "  'morn': 15.47},\n",
       " 'feels_like': {'day': 23.22, 'night': 15.07, 'eve': 18.39, 'morn': 15.21},\n",
       " 'pressure': 1017,\n",
       " 'humidity': 53,\n",
       " 'dew_point': 12.08,\n",
       " 'wind_speed': 3.4,\n",
       " 'wind_deg': 295,\n",
       " 'wind_gust': 3.2,\n",
       " 'weather': [{'id': 800,\n",
       "   'main': 'Clear',\n",
       "   'description': 'clear sky',\n",
       "   'icon': '01d'}],\n",
       " 'clouds': 0,\n",
       " 'pop': 0.08,\n",
       " 'uvi': 7.48}"
      ]
     },
     "execution_count": 19,
     "metadata": {},
     "output_type": "execute_result"
    }
   ],
   "source": [
    "def get_today_weather_param():\n",
    "    url = \"https://api.openweathermap.org/data/3.0/onecall?lat=47&lon=-122&exclude=minutely,hourly,alerts,current&appid=ca71a8087da7cc4f650f5f104745c9d1&units=metric\"\n",
    "    data = requests.get(url).json()\n",
    "    today = data['daily'][0]\n",
    "\n",
    "    return today;\n",
    "\n",
    "today = get_today_weather_param()\n",
    "today"
   ]
  },
  {
   "cell_type": "code",
   "execution_count": 27,
   "metadata": {},
   "outputs": [
    {
     "data": {
      "text/plain": [
       "int"
      ]
     },
     "execution_count": 27,
     "metadata": {},
     "output_type": "execute_result"
    }
   ],
   "source": [
    "id = today['dt']\n",
    "tdatetime = datetime.fromtimestamp(today['dt'])\n",
    "\n",
    "precipitation = 0;\n",
    "if('rain' in today.keys()):\n",
    "    precipitation = precipitation + today['rain']\n",
    "if('snow' in today.keys()):\n",
    "    precipitation = precipitation + today['snow']\n",
    "\n",
    "temp_min = today['temp']['min']\n",
    "temp_max = today['temp']['max']\n",
    "wind = today['wind_speed']\n",
    "real_weather = today['weather'][0]['main']\n",
    "\n",
    "type(id)"
   ]
  },
  {
   "cell_type": "code",
   "execution_count": 28,
   "metadata": {},
   "outputs": [],
   "source": [
    "import pymysql\n",
    "from dbconfig import funct\n",
    "\n",
    "def save_params_into_db(id, tdatetime, precipitation, temp_min, temp_max, wind, real_weather):\n",
    "    # 上传数据到本地库\n",
    "    Host, User, Password = funct()\n",
    "    con = pymysql.connect(host = Host, user = User, password = Password, database = 'damg', charset = \"utf8\")\n",
    "    c = con.cursor()\n",
    "\n",
    "    sql = \"insert into seattle_weather \\\n",
    "                values('%s','%s','%f','%f','%f','%f','%s')\" % \\\n",
    "                (id, tdatetime, precipitation, temp_min, temp_max, wind, real_weather)\n",
    "    try: \n",
    "        c.execute(sql)\n",
    "        # print(c.fetchall())\n",
    "        con.commit() # 若操作为增删改则需要提交数据\n",
    "        \n",
    "    except:\n",
    "        print(\"Something went wrong\")\n",
    "    finally:\n",
    "        c.close()\n",
    "        con.close()"
   ]
  },
  {
   "cell_type": "code",
   "execution_count": 29,
   "metadata": {},
   "outputs": [],
   "source": [
    "save_params_into_db(id, tdatetime, precipitation, temp_min, temp_max, wind, real_weather)"
   ]
  },
  {
   "cell_type": "code",
   "execution_count": null,
   "metadata": {},
   "outputs": [],
   "source": []
  }
 ],
 "metadata": {
  "kernelspec": {
   "display_name": "Python 3.9.13 ('.venv': venv)",
   "language": "python",
   "name": "python3"
  },
  "language_info": {
   "codemirror_mode": {
    "name": "ipython",
    "version": 3
   },
   "file_extension": ".py",
   "mimetype": "text/x-python",
   "name": "python",
   "nbconvert_exporter": "python",
   "pygments_lexer": "ipython3",
   "version": "3.9.13"
  },
  "orig_nbformat": 4,
  "vscode": {
   "interpreter": {
    "hash": "de10d03c335aaa351858ca5acf10466ab7278b7c6cda38565138b03a93111a8d"
   }
  }
 },
 "nbformat": 4,
 "nbformat_minor": 2
}
