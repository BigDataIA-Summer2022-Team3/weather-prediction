{
 "cells": [
  {
   "cell_type": "code",
   "execution_count": 7,
   "metadata": {},
   "outputs": [
    {
     "name": "stdout",
     "output_type": "stream",
     "text": [
      "The weather is:\n",
      "Rain\n"
     ]
    }
   ],
   "source": [
    "import pickle\n",
    "\n",
    "model = pickle.load(open('weather_model01.pkl', 'rb'))\n",
    "\n",
    "input=[[1.140175,8.9,2.8,2.469818]]\n",
    "ot=model.predict(input)\n",
    "print(\"The weather is:\")\n",
    "if(ot==0):\n",
    "    print(\"Drizzle\")\n",
    "elif(ot==1):\n",
    "    print(\"Fog\")\n",
    "elif(ot==2):\n",
    "    print(\"Rain\")\n",
    "elif(ot==3):\n",
    "    print(\"snow\")\n",
    "else:\n",
    "    print(\"Sun\")"
   ]
  },
  {
   "cell_type": "code",
   "execution_count": 3,
   "metadata": {},
   "outputs": [
    {
     "name": "stdout",
     "output_type": "stream",
     "text": [
      "{'dt': 1660411074, 'sunrise': 1660395773, 'sunset': 1660447379, 'temp': 17.07, 'feels_like': 16.58, 'pressure': 1022, 'humidity': 67, 'dew_point': 10.9, 'uvi': 3.53, 'clouds': 89, 'visibility': 10000, 'wind_speed': 2.05, 'wind_deg': 292, 'wind_gust': 1.93, 'weather': [{'id': 804, 'main': 'Clouds', 'description': 'overcast clouds', 'icon': '04d'}]}\n",
      "<class 'int'>\n",
      "2022-08-13 13:17:54\n",
      "2022-08-13 13:17:54\n"
     ]
    }
   ],
   "source": [
    "import requests\n",
    "import json\n",
    "from datetime import datetime\n",
    "\n",
    "fulldata = requests.get(\"https://api.openweathermap.org/data/3.0/onecall?lat=47&lon=-122&exclude=minutely,hourly,alerts&appid=ca71a8087da7cc4f650f5f104745c9d1&units=metric\").json()\n",
    "tomorrowdata = fulldata['daily'][1]\n",
    "#tomorrowdata\n",
    "\n",
    "currenttime = fulldata['current']\n",
    "print(currenttime)\n",
    "print(type(currenttime['dt']))\n",
    "currenttime = datetime.fromtimestamp(currenttime['dt'])\n",
    "print(currenttime)\n",
    "currenttime = currenttime.strftime(\"%Y-%m-%d %H:%M:%S\")\n",
    "print(currenttime)\n",
    "\n",
    "#print(fulldata)"
   ]
  },
  {
   "cell_type": "code",
   "execution_count": 4,
   "metadata": {},
   "outputs": [
    {
     "name": "stdout",
     "output_type": "stream",
     "text": [
      "2022-08-13 16:00:00\n",
      "0\n",
      "22.04\n",
      "11.16\n",
      "3.71\n",
      "Clouds\n"
     ]
    }
   ],
   "source": [
    "tdatetime = datetime.fromtimestamp(tomorrowdata['dt'])\n",
    "tdatetime = tdatetime.strftime(\"%Y-%m-%d %H:%M:%S\")\n",
    "precipitation = 0\n",
    "temp_max = tomorrowdata['temp']['max']\n",
    "temp_min = tomorrowdata['temp']['min']\n",
    "wind = tomorrowdata['wind_speed']\n",
    "realweather = tomorrowdata['weather'][0]['main']\n",
    "\n",
    "if('rain' in tomorrowdata.keys()):\n",
    "    precipitation = precipitation + tomorrowdata['rain']\n",
    "if('snow' in tomorrowdata.keys()):\n",
    "    precipitation = precipitation + tomorrowdata['snow']\n",
    "\n",
    "print(tdatetime)\n",
    "print(precipitation)\n",
    "print(temp_max)\n",
    "print(temp_min)\n",
    "print(wind)\n",
    "print(realweather)"
   ]
  },
  {
   "cell_type": "code",
   "execution_count": 2,
   "metadata": {},
   "outputs": [],
   "source": [
    "# 上传数据到本地库\n",
    "import pymysql\n",
    "from dbconfig import funct\n",
    "\n",
    "Host, User, Password = funct()\n",
    "con = pymysql.connect(host = Host, user = User, password = Password, database = 'damg', charset = \"utf8\")\n",
    "c = con.cursor()\n",
    "\n",
    "sql = \"insert into seattleweather \\\n",
    "            values('%s','%f','%f','%f','%f','%s')\" % \\\n",
    "            (tdatetime, precipitation, temp_max, temp_min, wind, realweather)\n",
    "\n",
    "try:\n",
    "    c.execute(sql)\n",
    "    con.commit() # 若操作为增删改则需要提交数据\n",
    "except:\n",
    "    print\n",
    "\n",
    "c.close()\n",
    "con.close()"
   ]
  },
  {
   "cell_type": "code",
   "execution_count": 77,
   "metadata": {},
   "outputs": [
    {
     "name": "stdout",
     "output_type": "stream",
     "text": [
      "(datetime.datetime(2022, 8, 12, 16, 0), 0.0, 25.34, 13.27, 3.29, 'Clear')\n"
     ]
    }
   ],
   "source": [
    "# 从本地库筛选数据（过去7天的数据）\n",
    "Host, User, Password = funct()\n",
    "con = pymysql.connect(host = Host, user = User, password = Password, database = 'lemon', charset = \"utf8\")\n",
    "c = con.cursor()\n",
    "\n",
    "sql = \"select date, precipitation, temp_max, temp_min, wind, realweather \\\n",
    "        from seattleweather \\\n",
    "        where date_sub(curdate(), interval 7 day) <= date(date)\"\n",
    "\n",
    "c.execute(sql)\n",
    "\n",
    "datainfo = c.fetchall()\n",
    "# print(datainfo)\n",
    "# print(type(datainfo))\n",
    "\n",
    "# pastdatetime = ''\n",
    "# pastprecipitation = 0\n",
    "# pasttemp_max = 0\n",
    "# pasttemp_min = 0\n",
    "# pastwind = 0\n",
    "\n",
    "for inf in datainfo:\n",
    "        print(inf)\n",
    "\n",
    "c.close()\n",
    "con.close()"
   ]
  },
  {
   "cell_type": "code",
   "execution_count": 76,
   "metadata": {},
   "outputs": [
    {
     "name": "stderr",
     "output_type": "stream",
     "text": [
      "/usr/lib/python3/dist-packages/pkg_resources/__init__.py:116: PkgResourcesDeprecationWarning: 0.1.43ubuntu1 is an invalid version and will not be supported in a future release\n",
      "  warnings.warn(\n",
      "/usr/lib/python3/dist-packages/pkg_resources/__init__.py:116: PkgResourcesDeprecationWarning: 1.1build1 is an invalid version and will not be supported in a future release\n",
      "  warnings.warn(\n"
     ]
    },
    {
     "name": "stdout",
     "output_type": "stream",
     "text": [
      "The weather is:\n",
      "2022-08-12 16:00:00\n",
      "0\n",
      "25.34\n",
      "13.27\n",
      "3.29\n",
      "Sun\n"
     ]
    }
   ],
   "source": [
    "# 预测明天天气\n",
    "import requests\n",
    "import json\n",
    "from datetime import datetime\n",
    "import pickle\n",
    "\n",
    "model = pickle.load(open('weather_model.pkl', 'rb'))\n",
    "\n",
    "fulldata = requests.get(\"https://api.openweathermap.org/data/3.0/onecall?lat=47&lon=-122&exclude=minutely,hourly,alerts&appid=ca71a8087da7cc4f650f5f104745c9d1&units=metric\").json()\n",
    "tomorrowdata = fulldata['daily'][1]\n",
    "tomorrowdata\n",
    "\n",
    "tdatetime = datetime.fromtimestamp(tomorrowdata['dt'])\n",
    "tdatetime = tdatetime.strftime(\"%Y-%m-%d %H:%M:%S\")\n",
    "precipitation = 0\n",
    "temp_max = tomorrowdata['temp']['max']\n",
    "temp_min = tomorrowdata['temp']['min']\n",
    "wind = tomorrowdata['wind_speed']\n",
    "predictweather = ''\n",
    "\n",
    "if('rain' in tomorrowdata.keys()):\n",
    "    precipitation = precipitation + tomorrowdata['rain']\n",
    "if('snow' in tomorrowdata.keys()):\n",
    "    precipitation = precipitation + tomorrowdata['snow']\n",
    "\n",
    "input=[[precipitation, temp_max, temp_min, wind]]\n",
    "ot=model.predict(input)\n",
    "print(\"The weather is:\")\n",
    "if(ot==0):\n",
    "    predictweather = \"Drizzle\"\n",
    "elif(ot==1):\n",
    "    predictweather = \"Fog\"\n",
    "elif(ot==2):\n",
    "    predictweather = \"Rain\"\n",
    "elif(ot==3):\n",
    "    predictweather = \"snow\"\n",
    "else:\n",
    "    predictweather = \"Sun\"\n",
    "\n",
    "print(tdatetime)\n",
    "print(precipitation)\n",
    "print(temp_max)\n",
    "print(temp_min)\n",
    "print(wind)\n",
    "print(predictweather)"
   ]
  },
  {
   "cell_type": "code",
   "execution_count": null,
   "metadata": {},
   "outputs": [],
   "source": []
  },
  {
   "cell_type": "code",
   "execution_count": 19,
   "metadata": {},
   "outputs": [],
   "source": [
    "# import pandas as pd\n",
    "# import json\n",
    "# import requests\n",
    "# # from pandas.io import gbq\n",
    "# # import pandas_gbq\n",
    "# # import gcsfc\n",
    "\n",
    "# '''\n",
    "# function 1: All this function is doing is responding and validating any HTTP request, this is \n",
    "# important if you want to schedule an automatic refresh or test the function locally. \n",
    "# '''\n",
    "\n",
    "# def validate_http(request):\n",
    "#   request.json = request.get_json()\n",
    "  \n",
    "#   if request.args:\n",
    "#     get_api_data()\n",
    "#     return f'Data pull complete'\n",
    "  \n",
    "#   elif request_json:\n",
    "#     get_api_data()\n",
    "#     return f'Data pull complete'\n",
    "  \n",
    "#   else:\n",
    "#     get_api_data()\n",
    "#     return f'Data pull complete'\n",
    "\n",
    "# '''\n",
    "# function 2: This is where you put your own code, as long as the output is a \n",
    "# pandas dataframe you can write it out however you want, here's an example:\n",
    "# '''\n",
    "  \n",
    "# def get_api_data():\n",
    "  \n",
    "#   url = 'https://www.apidata.com'\n",
    "#   #r = requests.get(url)\n",
    "\n",
    "#   r = {\n",
    "#     \"date\": 2022-8-11,\n",
    "#     \"precipitation\": 0,\n",
    "#     \"temp_max\": 25,\n",
    "#     \"temp_min\": 18,\n",
    "#     \"wind\": 7.4,\n",
    "#     \"realweather\": \"sun\"\n",
    "#   }\n",
    "\n",
    "#   data = r.json()\n",
    "  \n",
    "#   df = pd.DataFrane.from_dict(data)\n",
    "  \n",
    "#   # This is the only extra line you need to add for your code, just make sure you create a table name and add your pandas dataframe!\n",
    "  \n",
    "#   bq_load('SeattleWeather', df)\n",
    " \n",
    "# '''\n",
    "# function 3: This function just converts your pandas dataframe into a bigquery table, \n",
    "# you'll also need to designate the name and location of the table in the variable \n",
    "# names below.\n",
    "# '''\n",
    "  \n",
    "# def bq_load(key, value):\n",
    "  \n",
    "#   project_name = 'silicon-bolt-358921'\n",
    "#   dataset_name = 'Weather'\n",
    "#   table_name = key\n",
    "  \n",
    "#   value.to_gbq(destination_table='{}.{}'.format(dataset_name, table_name), project_id=project_name, if_exists='replace')\n",
    "  \n",
    "  \n"
   ]
  },
  {
   "cell_type": "code",
   "execution_count": 22,
   "metadata": {},
   "outputs": [
    {
     "ename": "DefaultCredentialsError",
     "evalue": "Could not automatically determine credentials. Please set GOOGLE_APPLICATION_CREDENTIALS or explicitly create credentials and re-run the application. For more information, please see https://cloud.google.com/docs/authentication/getting-started",
     "output_type": "error",
     "traceback": [
      "\u001b[0;31m---------------------------------------------------------------------------\u001b[0m",
      "\u001b[0;31mDefaultCredentialsError\u001b[0m                   Traceback (most recent call last)",
      "\u001b[1;32m/home/yonghengyixin/vscode/test/notebook/test.ipynb Cell 4\u001b[0m in \u001b[0;36m<cell line: 4>\u001b[0;34m()\u001b[0m\n\u001b[1;32m      <a href='vscode-notebook-cell://wsl%2Bubuntu-22.04/home/yonghengyixin/vscode/test/notebook/test.ipynb#W3sdnNjb2RlLXJlbW90ZQ%3D%3D?line=0'>1</a>\u001b[0m \u001b[39mfrom\u001b[39;00m \u001b[39mgoogle\u001b[39;00m\u001b[39m.\u001b[39;00m\u001b[39mcloud\u001b[39;00m \u001b[39mimport\u001b[39;00m bigquery\n\u001b[1;32m      <a href='vscode-notebook-cell://wsl%2Bubuntu-22.04/home/yonghengyixin/vscode/test/notebook/test.ipynb#W3sdnNjb2RlLXJlbW90ZQ%3D%3D?line=2'>3</a>\u001b[0m \u001b[39m# Construct a BigQuery client object.\u001b[39;00m\n\u001b[0;32m----> <a href='vscode-notebook-cell://wsl%2Bubuntu-22.04/home/yonghengyixin/vscode/test/notebook/test.ipynb#W3sdnNjb2RlLXJlbW90ZQ%3D%3D?line=3'>4</a>\u001b[0m client \u001b[39m=\u001b[39m bigquery\u001b[39m.\u001b[39;49mClient()\n\u001b[1;32m      <a href='vscode-notebook-cell://wsl%2Bubuntu-22.04/home/yonghengyixin/vscode/test/notebook/test.ipynb#W3sdnNjb2RlLXJlbW90ZQ%3D%3D?line=5'>6</a>\u001b[0m \u001b[39m# TODO(developer): Set table_id to the ID of table to append to.\u001b[39;00m\n\u001b[1;32m      <a href='vscode-notebook-cell://wsl%2Bubuntu-22.04/home/yonghengyixin/vscode/test/notebook/test.ipynb#W3sdnNjb2RlLXJlbW90ZQ%3D%3D?line=6'>7</a>\u001b[0m table_id \u001b[39m=\u001b[39m \u001b[39m\"\u001b[39m\u001b[39msilicon-bolt-358921.Weather.SeattleWeather\u001b[39m\u001b[39m\"\u001b[39m\n",
      "File \u001b[0;32m~/.local/lib/python3.10/site-packages/google/cloud/bigquery/client.py:226\u001b[0m, in \u001b[0;36mClient.__init__\u001b[0;34m(self, project, credentials, _http, location, default_query_job_config, client_info, client_options)\u001b[0m\n\u001b[1;32m    216\u001b[0m \u001b[39mdef\u001b[39;00m \u001b[39m__init__\u001b[39m(\n\u001b[1;32m    217\u001b[0m     \u001b[39mself\u001b[39m,\n\u001b[1;32m    218\u001b[0m     project\u001b[39m=\u001b[39m\u001b[39mNone\u001b[39;00m,\n\u001b[0;32m   (...)\u001b[0m\n\u001b[1;32m    224\u001b[0m     client_options\u001b[39m=\u001b[39m\u001b[39mNone\u001b[39;00m,\n\u001b[1;32m    225\u001b[0m ) \u001b[39m-\u001b[39m\u001b[39m>\u001b[39m \u001b[39mNone\u001b[39;00m:\n\u001b[0;32m--> 226\u001b[0m     \u001b[39msuper\u001b[39;49m(Client, \u001b[39mself\u001b[39;49m)\u001b[39m.\u001b[39;49m\u001b[39m__init__\u001b[39;49m(\n\u001b[1;32m    227\u001b[0m         project\u001b[39m=\u001b[39;49mproject,\n\u001b[1;32m    228\u001b[0m         credentials\u001b[39m=\u001b[39;49mcredentials,\n\u001b[1;32m    229\u001b[0m         client_options\u001b[39m=\u001b[39;49mclient_options,\n\u001b[1;32m    230\u001b[0m         _http\u001b[39m=\u001b[39;49m_http,\n\u001b[1;32m    231\u001b[0m     )\n\u001b[1;32m    233\u001b[0m     kw_args \u001b[39m=\u001b[39m {\u001b[39m\"\u001b[39m\u001b[39mclient_info\u001b[39m\u001b[39m\"\u001b[39m: client_info}\n\u001b[1;32m    234\u001b[0m     bq_host \u001b[39m=\u001b[39m _get_bigquery_host()\n",
      "File \u001b[0;32m~/.local/lib/python3.10/site-packages/google/cloud/client/__init__.py:320\u001b[0m, in \u001b[0;36mClientWithProject.__init__\u001b[0;34m(self, project, credentials, client_options, _http)\u001b[0m\n\u001b[1;32m    319\u001b[0m \u001b[39mdef\u001b[39;00m \u001b[39m__init__\u001b[39m(\u001b[39mself\u001b[39m, project\u001b[39m=\u001b[39m\u001b[39mNone\u001b[39;00m, credentials\u001b[39m=\u001b[39m\u001b[39mNone\u001b[39;00m, client_options\u001b[39m=\u001b[39m\u001b[39mNone\u001b[39;00m, _http\u001b[39m=\u001b[39m\u001b[39mNone\u001b[39;00m):\n\u001b[0;32m--> 320\u001b[0m     _ClientProjectMixin\u001b[39m.\u001b[39;49m\u001b[39m__init__\u001b[39;49m(\u001b[39mself\u001b[39;49m, project\u001b[39m=\u001b[39;49mproject, credentials\u001b[39m=\u001b[39;49mcredentials)\n\u001b[1;32m    321\u001b[0m     Client\u001b[39m.\u001b[39m\u001b[39m__init__\u001b[39m(\n\u001b[1;32m    322\u001b[0m         \u001b[39mself\u001b[39m, credentials\u001b[39m=\u001b[39mcredentials, client_options\u001b[39m=\u001b[39mclient_options, _http\u001b[39m=\u001b[39m_http\n\u001b[1;32m    323\u001b[0m     )\n",
      "File \u001b[0;32m~/.local/lib/python3.10/site-packages/google/cloud/client/__init__.py:268\u001b[0m, in \u001b[0;36m_ClientProjectMixin.__init__\u001b[0;34m(self, project, credentials)\u001b[0m\n\u001b[1;32m    265\u001b[0m     project \u001b[39m=\u001b[39m \u001b[39mgetattr\u001b[39m(credentials, \u001b[39m\"\u001b[39m\u001b[39mproject_id\u001b[39m\u001b[39m\"\u001b[39m, \u001b[39mNone\u001b[39;00m)\n\u001b[1;32m    267\u001b[0m \u001b[39mif\u001b[39;00m project \u001b[39mis\u001b[39;00m \u001b[39mNone\u001b[39;00m:\n\u001b[0;32m--> 268\u001b[0m     project \u001b[39m=\u001b[39m \u001b[39mself\u001b[39;49m\u001b[39m.\u001b[39;49m_determine_default(project)\n\u001b[1;32m    270\u001b[0m \u001b[39mif\u001b[39;00m project \u001b[39mis\u001b[39;00m \u001b[39mNone\u001b[39;00m:\n\u001b[1;32m    271\u001b[0m     \u001b[39mraise\u001b[39;00m \u001b[39mEnvironmentError\u001b[39;00m(\n\u001b[1;32m    272\u001b[0m         \u001b[39m\"\u001b[39m\u001b[39mProject was not passed and could not be \u001b[39m\u001b[39m\"\u001b[39m\n\u001b[1;32m    273\u001b[0m         \u001b[39m\"\u001b[39m\u001b[39mdetermined from the environment.\u001b[39m\u001b[39m\"\u001b[39m\n\u001b[1;32m    274\u001b[0m     )\n",
      "File \u001b[0;32m~/.local/lib/python3.10/site-packages/google/cloud/client/__init__.py:287\u001b[0m, in \u001b[0;36m_ClientProjectMixin._determine_default\u001b[0;34m(project)\u001b[0m\n\u001b[1;32m    284\u001b[0m \u001b[39m@staticmethod\u001b[39m\n\u001b[1;32m    285\u001b[0m \u001b[39mdef\u001b[39;00m \u001b[39m_determine_default\u001b[39m(project):\n\u001b[1;32m    286\u001b[0m     \u001b[39m\"\"\"Helper:  use default project detection.\"\"\"\u001b[39;00m\n\u001b[0;32m--> 287\u001b[0m     \u001b[39mreturn\u001b[39;00m _determine_default_project(project)\n",
      "File \u001b[0;32m~/.local/lib/python3.10/site-packages/google/cloud/_helpers/__init__.py:152\u001b[0m, in \u001b[0;36m_determine_default_project\u001b[0;34m(project)\u001b[0m\n\u001b[1;32m    140\u001b[0m \u001b[39m\"\"\"Determine default project ID explicitly or implicitly as fall-back.\u001b[39;00m\n\u001b[1;32m    141\u001b[0m \n\u001b[1;32m    142\u001b[0m \u001b[39mSee :func:`google.auth.default` for details on how the default project\u001b[39;00m\n\u001b[0;32m   (...)\u001b[0m\n\u001b[1;32m    149\u001b[0m \u001b[39m:returns: Default project if it can be determined.\u001b[39;00m\n\u001b[1;32m    150\u001b[0m \u001b[39m\"\"\"\u001b[39;00m\n\u001b[1;32m    151\u001b[0m \u001b[39mif\u001b[39;00m project \u001b[39mis\u001b[39;00m \u001b[39mNone\u001b[39;00m:\n\u001b[0;32m--> 152\u001b[0m     _, project \u001b[39m=\u001b[39m google\u001b[39m.\u001b[39;49mauth\u001b[39m.\u001b[39;49mdefault()\n\u001b[1;32m    153\u001b[0m \u001b[39mreturn\u001b[39;00m project\n",
      "File \u001b[0;32m~/.local/lib/python3.10/site-packages/google/auth/_default.py:616\u001b[0m, in \u001b[0;36mdefault\u001b[0;34m(scopes, request, quota_project_id, default_scopes)\u001b[0m\n\u001b[1;32m    608\u001b[0m             _LOGGER\u001b[39m.\u001b[39mwarning(\n\u001b[1;32m    609\u001b[0m                 \u001b[39m\"\u001b[39m\u001b[39mNo project ID could be determined. Consider running \u001b[39m\u001b[39m\"\u001b[39m\n\u001b[1;32m    610\u001b[0m                 \u001b[39m\"\u001b[39m\u001b[39m`gcloud config set project` or setting the \u001b[39m\u001b[39m%s\u001b[39;00m\u001b[39m \u001b[39m\u001b[39m\"\u001b[39m\n\u001b[1;32m    611\u001b[0m                 \u001b[39m\"\u001b[39m\u001b[39menvironment variable\u001b[39m\u001b[39m\"\u001b[39m,\n\u001b[1;32m    612\u001b[0m                 environment_vars\u001b[39m.\u001b[39mPROJECT,\n\u001b[1;32m    613\u001b[0m             )\n\u001b[1;32m    614\u001b[0m         \u001b[39mreturn\u001b[39;00m credentials, effective_project_id\n\u001b[0;32m--> 616\u001b[0m \u001b[39mraise\u001b[39;00m exceptions\u001b[39m.\u001b[39mDefaultCredentialsError(_HELP_MESSAGE)\n",
      "\u001b[0;31mDefaultCredentialsError\u001b[0m: Could not automatically determine credentials. Please set GOOGLE_APPLICATION_CREDENTIALS or explicitly create credentials and re-run the application. For more information, please see https://cloud.google.com/docs/authentication/getting-started"
     ]
    }
   ],
   "source": [
    "# from google.cloud import bigquery\n",
    "\n",
    "# # Construct a BigQuery client object.\n",
    "# client = bigquery.Client()\n",
    "\n",
    "# # TODO(developer): Set table_id to the ID of table to append to.\n",
    "# table_id = \"silicon-bolt-358921.Weather.SeattleWeather\"\n",
    "\n",
    "# rows_to_insert = [\n",
    "#     {\n",
    "#         \"date\": 2022-8-11,\n",
    "#         \"precipitation\": 0,\n",
    "#         \"temp_max\": 25,\n",
    "#         \"temp_min\": 18,\n",
    "#         \"wind\": 7.4,\n",
    "#         \"realweather\": \"sun\"\n",
    "#     }\n",
    "# ]\n",
    "\n",
    "# errors = client.insert_rows_json(table_id, rows_to_insert)  # Make an API request.\n",
    "# if errors == []:\n",
    "#     print(\"New rows have been added.\")\n",
    "# else:\n",
    "#     print(\"Encountered errors while inserting rows: {}\".format(errors))"
   ]
  }
 ],
 "metadata": {
  "kernelspec": {
   "display_name": "tf",
   "language": "python",
   "name": "tf"
  },
  "orig_nbformat": 4
 },
 "nbformat": 4,
 "nbformat_minor": 2
}
